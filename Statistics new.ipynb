{
 "cells": [
  {
   "cell_type": "code",
   "execution_count": 2,
   "metadata": {},
   "outputs": [
    {
     "name": "stdout",
     "output_type": "stream",
     "text": [
      "[106, 90, 104, 99, 103, 109, 98, 97, 124, 123, 93, 107, 107, 122, 122, 109, 103, 114, 107, 118, 130, 117, 122, 96, 130, 124, 109, 92, 113, 126, 105, 97, 117, 130, 98, 90, 110, 105, 116, 90, 111, 122, 128, 105, 106, 117, 123, 129, 120, 114, 95, 126, 109, 104, 114, 121, 124, 98, 117, 99, 108, 114, 101, 113, 119, 96, 99, 98, 113, 99, 112, 90, 111, 109, 105, 98, 129, 96, 126, 108, 129, 107, 121, 113, 104, 95, 103, 93, 113, 93, 105, 122, 114, 112, 94, 101, 102, 116, 103, 107]\n"
     ]
    }
   ],
   "source": [
    "#1- Generate a list of 100 integers containing values between 90 to 130 and store it in the variable `int_list`.After generating the list, find the following:\n",
    "\n",
    "import random\n",
    "\n",
    "# Generate the list of 100 integers between 90 and 130\n",
    "int_list = [random.randint(90, 130) for _ in range(100)]\n",
    "print(int_list)\n"
   ]
  },
  {
   "cell_type": "code",
   "execution_count": 6,
   "metadata": {},
   "outputs": [
    {
     "data": {
      "text/plain": [
       "np.float64(109.45)"
      ]
     },
     "execution_count": 6,
     "metadata": {},
     "output_type": "execute_result"
    }
   ],
   "source": [
    "# (i) Write a Python function to calculate the mean of a given list of numbers.Create a function to find the median of a list of numbers.\n",
    "\n",
    "import numpy as np\n",
    "\n",
    "np.mean(int_list)\n"
   ]
  },
  {
   "cell_type": "code",
   "execution_count": 7,
   "metadata": {},
   "outputs": [
    {
     "data": {
      "text/plain": [
       "np.float64(109.0)"
      ]
     },
     "execution_count": 7,
     "metadata": {},
     "output_type": "execute_result"
    }
   ],
   "source": [
    "np.median(int_list)"
   ]
  },
  {
   "cell_type": "code",
   "execution_count": 9,
   "metadata": {},
   "outputs": [
    {
     "data": {
      "text/plain": [
       "109"
      ]
     },
     "execution_count": 9,
     "metadata": {},
     "output_type": "execute_result"
    }
   ],
   "source": [
    "#  (ii) Develop a program to compute the mode of a list of integers.\n",
    "\n",
    "import statistics\n",
    "\n",
    "statistics.mode(int_list)"
   ]
  },
  {
   "cell_type": "code",
   "execution_count": 10,
   "metadata": {},
   "outputs": [
    {
     "name": "stdout",
     "output_type": "stream",
     "text": [
      "Weighted Mean: 113.0\n"
     ]
    }
   ],
   "source": [
    "# (iii) Implement a function to calculate the weighted mean of a list of values and their corresponding weights.\n",
    "\n",
    "# Function to calculate weighted mean\n",
    "def calculate_weighted_mean(values, weights):\n",
    "    weighted_sum = sum(value * weight for value, weight in zip(values, weights))\n",
    "    total_weight = sum(weights)\n",
    "    return weighted_sum / total_weight\n",
    "\n",
    "# Example usage:\n",
    "values = [90, 130, 100]\n",
    "weights = [0.2, 0.5, 0.3]\n",
    "\n",
    "weighted_mean = calculate_weighted_mean(values, weights)\n",
    "print(\"Weighted Mean:\", weighted_mean)\n",
    "\n"
   ]
  },
  {
   "cell_type": "code",
   "execution_count": 16,
   "metadata": {},
   "outputs": [
    {
     "name": "stdout",
     "output_type": "stream",
     "text": [
      "Geometric Mean: 108.16653826391968\n"
     ]
    }
   ],
   "source": [
    "# (iv) Write a Python function to find the geometric mean of a list of positive numbers.\n",
    "\n",
    "import math\n",
    "\n",
    "# Function to calculate geometric mean\n",
    "def calculate_geometric_mean(int_list):\n",
    "    product = 1\n",
    "    for number in int_list:\n",
    "        product *= number\n",
    "    return math.pow(product, 1/len(int_list))\n",
    "\n",
    "# Example usage:\n",
    "int_list = [90, 130]\n",
    "\n",
    "geometric_mean = calculate_geometric_mean(int_list)\n",
    "print(\"Geometric Mean:\", geometric_mean)\n"
   ]
  },
  {
   "cell_type": "code",
   "execution_count": 17,
   "metadata": {},
   "outputs": [
    {
     "name": "stdout",
     "output_type": "stream",
     "text": [
      "Harmonic Mean: 106.36363636363635\n"
     ]
    }
   ],
   "source": [
    "#  (v) Create a program to calculate the harmonic mean of a list of values.\n",
    "\n",
    "# Function to calculate harmonic mean\n",
    "def calculate_harmonic_mean(int_list):\n",
    "    reciprocal_sum = sum(1 / number for number in int_list)\n",
    "    return len(int_list) / reciprocal_sum\n",
    "\n",
    "# Example usage:\n",
    "int_list = [90, 130]\n",
    "\n",
    "harmonic_mean = calculate_harmonic_mean(int_list)\n",
    "print(\"Harmonic Mean:\", harmonic_mean)\n"
   ]
  },
  {
   "cell_type": "code",
   "execution_count": 18,
   "metadata": {},
   "outputs": [
    {
     "name": "stdout",
     "output_type": "stream",
     "text": [
      "Midrange: 110.0\n"
     ]
    }
   ],
   "source": [
    " #(vi) Build a function to determine the midrange of a list of numbers (average of the minimum and maximum).\n",
    "\n",
    "# Function to calculate midrange\n",
    "def calculate_midrange(int_list):\n",
    "    return (min(int_list) + max(int_list)) / 2\n",
    "\n",
    "# Example usage:\n",
    "int_list = [90, 130]\n",
    "\n",
    "midrange = calculate_midrange(int_list)\n",
    "print(\"Midrange:\", midrange)\n"
   ]
  },
  {
   "cell_type": "code",
   "execution_count": 23,
   "metadata": {},
   "outputs": [
    {
     "name": "stdout",
     "output_type": "stream",
     "text": [
      "The trimmed mean is: 110.0\n"
     ]
    }
   ],
   "source": [
    "# (vii) Implement a Python program to find the trimmed mean of a list, excluding a certain percentage of outliers\n",
    "\n",
    "def trimmed_mean(data, percentage):\n",
    "    if not data or percentage < 0 or percentage >= 50:\n",
    "        raise ValueError(\"Data must be a non-empty list and percentage must be between 0 and 50.\")\n",
    "\n",
    "    # Sort the data\n",
    "    sorted_data = sorted(data)\n",
    "    \n",
    "    # Calculate the number of elements to trim\n",
    "    n = len(sorted_data)\n",
    "    trim_count = int(n * (percentage / 100))\n",
    "    \n",
    "    # Trim the sorted data\n",
    "    trimmed_data = sorted_data[trim_count:n-trim_count]\n",
    "    \n",
    "    # Calculate the mean of the trimmed data\n",
    "    if not trimmed_data:\n",
    "        raise ValueError(\"Trimming results in an empty list.\")\n",
    "    \n",
    "    trimmed_mean_value = sum(trimmed_data) / len(trimmed_data)\n",
    "    \n",
    "    return trimmed_mean_value\n",
    "\n",
    "# Example usage\n",
    "data = [90, 130]\n",
    "percentage = 20  # Trim 20% from both ends\n",
    "result = trimmed_mean(data, percentage)\n",
    "print(f\"The trimmed mean is: {result}\")\n",
    "\n",
    "\n",
    "\n"
   ]
  },
  {
   "cell_type": "code",
   "execution_count": 27,
   "metadata": {},
   "outputs": [
    {
     "name": "stdout",
     "output_type": "stream",
     "text": [
      "[200, 229, 218, 276, 213, 283, 235, 221, 284, 257, 276, 270, 286, 263, 248, 234, 267, 283, 228, 240, 205, 265, 236, 224, 265, 244, 254, 286, 242, 219, 227, 280, 211, 278, 206, 290, 225, 228, 200, 206, 225, 214, 254, 248, 233, 284, 208, 292, 244, 268, 211, 256, 257, 273, 246, 255, 203, 244, 239, 253, 203, 263, 213, 262, 246, 242, 227, 298, 206, 254, 212, 205, 258, 262, 294, 292, 208, 259, 206, 225, 203, 204, 215, 277, 250, 288, 277, 265, 272, 241, 281, 260, 245, 206, 291, 223, 218, 275, 212, 261, 267, 266, 293, 203, 265, 236, 238, 233, 266, 244, 201, 241, 249, 225, 279, 263, 215, 261, 260, 233, 220, 234, 278, 218, 290, 266, 224, 238, 264, 248, 201, 217, 294, 267, 253, 282, 228, 273, 284, 298, 269, 267, 244, 259, 223, 265, 263, 208, 285, 267, 300, 279, 235, 223, 217, 266, 209, 211, 234, 254, 204, 289, 221, 225, 287, 216, 223, 216, 262, 223, 250, 291, 219, 221, 248, 278, 281, 258, 203, 261, 209, 226, 245, 273, 294, 217, 206, 210, 218, 259, 282, 204, 285, 227, 214, 234, 283, 287, 228, 247, 262, 245, 282, 216, 267, 225, 296, 242, 288, 222, 289, 228, 290, 280, 200, 287, 256, 276, 282, 285, 200, 272, 202, 231, 224, 297, 246, 200, 294, 228, 242, 288, 212, 236, 212, 278, 212, 259, 247, 222, 252, 270, 211, 215, 270, 293, 248, 272, 294, 240, 291, 208, 253, 255, 212, 251, 207, 279, 225, 280, 291, 282, 213, 300, 282, 263, 228, 294, 262, 221, 276, 261, 295, 285, 225, 204, 224, 299, 209, 269, 226, 297, 221, 273, 281, 227, 230, 239, 210, 256, 273, 222, 208, 220, 226, 253, 241, 222, 229, 229, 278, 295, 235, 263, 265, 263, 286, 270, 298, 294, 269, 238, 205, 252, 205, 270, 289, 218, 217, 202, 239, 295, 243, 277, 213, 210, 213, 244, 206, 230, 217, 279, 249, 255, 224, 204, 282, 281, 213, 234, 262, 210, 232, 261, 209, 218, 222, 237, 267, 223, 271, 241, 292, 253, 228, 253, 228, 268, 274, 283, 263, 202, 205, 242, 217, 239, 263, 200, 231, 270, 270, 238, 249, 280, 211, 231, 207, 277, 236, 267, 250, 286, 253, 280, 288, 227, 284, 224, 292, 237, 293, 281, 214, 216, 264, 229, 236, 248, 248, 279, 223, 262, 274, 230, 201, 215, 232, 240, 232, 260, 216, 252, 238, 212, 290, 278, 282, 271, 252, 260, 253, 256, 226, 248, 214, 262, 260, 208, 294, 286, 213, 298, 270, 234, 220, 218, 233, 205, 265, 217, 271, 254, 288, 300, 218, 281, 282, 238, 288, 297, 269, 257, 273, 284, 280, 226, 208, 250, 239, 254, 286, 237, 264, 259, 276, 283, 205, 212, 276, 281, 222, 267, 292, 276, 226, 225, 220, 242, 220, 227, 260, 266, 236, 202, 270, 225, 297, 217, 202, 288, 204, 292, 233, 249, 270, 215, 240, 204, 270, 216]\n"
     ]
    }
   ],
   "source": [
    "#2- Generate a list of 500 integers containing values between 200 to 300 and store it in the variable `int_list2`. After generating the list, find the following:\n",
    "\n",
    "import random\n",
    "\n",
    "# Generate the list of 500 integers between 200 and 300\n",
    "int_list2 = [random.randint(200, 300) for _ in range(500)]\n",
    "print(int_list2)\n",
    "\n"
   ]
  },
  {
   "cell_type": "code",
   "execution_count": 28,
   "metadata": {},
   "outputs": [
    {
     "data": {
      "image/png": "[encoded data removed]",
      "text/plain": [
       "<Figure size 1000x500 with 1 Axes>"
      ]
     },
     "metadata": {},
     "output_type": "display_data"
    }
   ],
   "source": [
    " # (i) Compare the given list of visualization for the given data:\n",
    "#1. Frequency & Gaussian distribution.\n",
    "\n",
    "import matplotlib.pyplot as plt\n",
    "import seaborn as sns\n",
    "import numpy as np\n",
    "\n",
    "# Generate the list of 500 integers between 200 and 300\n",
    "int_list2 = [random.randint(200, 300) for _ in range(500)]\n",
    "\n",
    "# Frequency distribution (Histogram)\n",
    "plt.figure(figsize=(10, 5))\n",
    "sns.histplot(int_list2, kde=False, bins=20, color='blue', label='Frequency Distribution')\n",
    "\n",
    "# Gaussian (Normal) distribution\n",
    "mean = np.mean(int_list2)\n",
    "std = np.std(int_list2)\n",
    "x = np.linspace(mean - 3*std, mean + 3*std, 100)\n",
    "gaussian = (1/(std * np.sqrt(2 * np.pi))) * np.exp(-0.5 * ((x - mean) / std) ** 2)\n",
    "plt.plot(x, gaussian * len(int_list2) * (max(int_list2)-min(int_list2))/20, color='red', label='Gaussian Distribution')\n",
    "\n",
    "plt.title('Frequency & Gaussian Distribution')\n",
    "plt.legend()\n",
    "plt.show()\n"
   ]
  },
  {
   "cell_type": "code",
   "execution_count": 31,
   "metadata": {},
   "outputs": [
    {
     "name": "stderr",
     "output_type": "stream",
     "text": [
      "C:\\Users\\suraj\\AppData\\Local\\Temp\\ipykernel_12224\\3729326566.py:11: FutureWarning: \n",
      "\n",
      "`shade` is now deprecated in favor of `fill`; setting `fill=True`.\n",
      "This will become an error in seaborn v0.14.0; please update your code.\n",
      "\n",
      "  sns.kdeplot(int_list2, shade=True, color='blue')\n"
     ]
    },
    {
     "data": {
      "image/png": "[encoded data removed]",
      "text/plain": [
       "<Figure size 1000x500 with 1 Axes>"
      ]
     },
     "metadata": {},
     "output_type": "display_data"
    }
   ],
   "source": [
    "#    2. Frequency smoothened KDE plot\n",
    "\n",
    "import matplotlib.pyplot as plt\n",
    "import seaborn as sns\n",
    "\n",
    "# Generate the list of 500 integers between 200 and 300\n",
    "int_list2 = [random.randint(200, 300) for _ in range(500)]\n",
    "\n",
    "# Frequency smoothened KDE plot\n",
    "plt.figure(figsize=(10, 5))\n",
    "sns.kdeplot(int_list2, shade=True, color='blue')\n",
    "plt.title('Smoothened KDE Plot')\n",
    "plt.xlabel('Value')\n",
    "plt.ylabel('Density')\n",
    "plt.show()\n"
   ]
  },
  {
   "cell_type": "code",
   "execution_count": 32,
   "metadata": {},
   "outputs": [
    {
     "name": "stderr",
     "output_type": "stream",
     "text": [
      "C:\\Users\\suraj\\AppData\\Local\\Temp\\ipykernel_12224\\2479960772.py:14: FutureWarning: \n",
      "\n",
      "`shade` is now deprecated in favor of `fill`; setting `fill=True`.\n",
      "This will become an error in seaborn v0.14.0; please update your code.\n",
      "\n",
      "  sns.kdeplot(int_list2, shade=True, color='blue', label='Smoothened KDE')\n"
     ]
    },
    {
     "data": {
      "image/png": "[encoded data removed]",
      "text/plain": [
       "<Figure size 1000x500 with 1 Axes>"
      ]
     },
     "metadata": {},
     "output_type": "display_data"
    }
   ],
   "source": [
    "#(i) Compare the given list of visualization for the given data:\n",
    "   # 3. Gaussian distribution & smoothened KDE plot\n",
    "\n",
    "\n",
    "import matplotlib.pyplot as plt\n",
    "import seaborn as sns\n",
    "import numpy as np\n",
    "\n",
    "# Generate the list of 500 integers between 200 and 300\n",
    "int_list2 = [random.randint(200, 300) for _ in range(500)]\n",
    "\n",
    "# Smoothened KDE plot\n",
    "plt.figure(figsize=(10, 5))\n",
    "sns.kdeplot(int_list2, shade=True, color='blue', label='Smoothened KDE')\n",
    "\n",
    "# Gaussian (Normal) distribution\n",
    "mean = np.mean(int_list2)\n",
    "std = np.std(int_list2)\n",
    "x = np.linspace(mean - 3*std, mean + 3*std, 100)\n",
    "gaussian = (1/(std * np.sqrt(2 * np.pi))) * np.exp(-0.5 * ((x - mean) / std) ** 2)\n",
    "plt.plot(x, gaussian, color='red', label='Gaussian Distribution')\n",
    "\n",
    "plt.title('Gaussian Distribution & Smoothened KDE Plot')\n",
    "plt.xlabel('Value')\n",
    "plt.ylabel('Density')\n",
    "plt.legend()\n",
    "plt.show()\n"
   ]
  },
  {
   "cell_type": "code",
   "execution_count": 33,
   "metadata": {},
   "outputs": [
    {
     "name": "stdout",
     "output_type": "stream",
     "text": [
      "Range: 300\n"
     ]
    }
   ],
   "source": [
    "#(ii) Write a Python function to calculate the range of a given list of numbers\n",
    "\n",
    "def calculate_range(numbers):\n",
    "    return max(numbers) - min(numbers)\n",
    "\n",
    "# Example usage:\n",
    "numbers = [200, 500]\n",
    "\n",
    "range_value = calculate_range(numbers)\n",
    "print(\"Range:\", range_value)\n"
   ]
  },
  {
   "cell_type": "code",
   "execution_count": 34,
   "metadata": {},
   "outputs": [
    {
     "name": "stdout",
     "output_type": "stream",
     "text": [
      "Variance: 22500.0\n",
      "Standard Deviation: 150.0\n"
     ]
    }
   ],
   "source": [
    "#(iii) Create a program to find the variance and standard deviation of a list of numbers\n",
    "\n",
    "def calculate_variance(numbers):\n",
    "    mean = sum(numbers) / len(numbers)\n",
    "    variance = sum((x - mean) ** 2 for x in numbers) / len(numbers)\n",
    "    return variance\n",
    "\n",
    "def calculate_standard_deviation(numbers):\n",
    "    variance = calculate_variance(numbers)\n",
    "    standard_deviation = variance ** 0.5\n",
    "    return standard_deviation\n",
    "\n",
    "# Example usage:\n",
    "numbers = [200, 500]\n",
    "\n",
    "variance = calculate_variance(numbers)\n",
    "standard_deviation = calculate_standard_deviation(numbers)\n",
    "\n",
    "print(\"Variance:\", variance)\n",
    "print(\"Standard Deviation:\", standard_deviation)\n"
   ]
  },
  {
   "cell_type": "code",
   "execution_count": 36,
   "metadata": {},
   "outputs": [
    {
     "name": "stdout",
     "output_type": "stream",
     "text": [
      "Interquartile Range (IQR): 120.0\n"
     ]
    }
   ],
   "source": [
    "#(iv) Implement a function to compute the interquartile range (IQR) of a list of values.\n",
    "\n",
    "def calculate_iqr(numbers):\n",
    "    sorted_numbers = sorted(numbers)\n",
    "    n = len(sorted_numbers)\n",
    "\n",
    "    q1 = np.percentile(sorted_numbers, 30)\n",
    "    q3 = np.percentile(sorted_numbers, 70)\n",
    "    iqr = q3 - q1\n",
    "\n",
    "    return iqr\n",
    "\n",
    "# Example usage:\n",
    "numbers = [200, 500]\n",
    "\n",
    "iqr = calculate_iqr(numbers)\n",
    "print(\"Interquartile Range (IQR):\", iqr)\n"
   ]
  },
  {
   "cell_type": "code",
   "execution_count": 37,
   "metadata": {},
   "outputs": [
    {
     "name": "stdout",
     "output_type": "stream",
     "text": [
      "Coefficient of Variation (CV): 42.857142857142854 %\n"
     ]
    }
   ],
   "source": [
    "#(v) Build a program to calculate the coefficient of variation for a dataset.\n",
    "\n",
    "def calculate_coefficient_of_variation(numbers):\n",
    "    mean = sum(numbers) / len(numbers)\n",
    "    variance = sum((x - mean) ** 2 for x in numbers) / len(numbers)\n",
    "    standard_deviation = variance ** 0.5\n",
    "    coefficient_of_variation = (standard_deviation / mean) * 100\n",
    "    return coefficient_of_variation\n",
    "\n",
    "# Example usage:\n",
    "numbers = [200, 500]\n",
    "\n",
    "cv = calculate_coefficient_of_variation(numbers)\n",
    "print(\"Coefficient of Variation (CV):\", cv, \"%\")\n"
   ]
  },
  {
   "cell_type": "code",
   "execution_count": 39,
   "metadata": {},
   "outputs": [
    {
     "name": "stdout",
     "output_type": "stream",
     "text": [
      "Mean Absolute Deviation (MAD): 150.0\n"
     ]
    }
   ],
   "source": [
    "#(vi) Write a Python function to find the mean absolute deviation (MAD) of a list of numbers\n",
    "\n",
    "def calculate_mad(numbers):\n",
    "    mean = sum(numbers) / len(numbers)\n",
    "    mad = sum(abs(x - mean) for x in numbers) / len(numbers)\n",
    "    return mad\n",
    "\n",
    "# Example usage:\n",
    "numbers = [200, 500]\n",
    "\n",
    "mad = calculate_mad(numbers)\n",
    "print(\"Mean Absolute Deviation (MAD):\", mad)\n"
   ]
  },
  {
   "cell_type": "code",
   "execution_count": 41,
   "metadata": {},
   "outputs": [
    {
     "name": "stdout",
     "output_type": "stream",
     "text": [
      "Quartile Deviation: 75.0\n"
     ]
    }
   ],
   "source": [
    "#(vii) Create a program to calculate the quartile deviation of a list of values\n",
    "\n",
    "def calculate_quartile_deviation(numbers):\n",
    "    sorted_numbers = sorted(numbers)\n",
    "    \n",
    "    q1 = np.percentile(sorted_numbers, 25)\n",
    "    q3 = np.percentile(sorted_numbers, 75)\n",
    "    quartile_deviation = (q3 - q1) / 2\n",
    "\n",
    "    return quartile_deviation\n",
    "\n",
    "# Example usage:\n",
    "numbers = [200, 500]\n",
    "\n",
    "quartile_deviation = calculate_quartile_deviation(numbers)\n",
    "print(\"Quartile Deviation:\", quartile_deviation)\n"
   ]
  },
  {
   "cell_type": "code",
   "execution_count": 43,
   "metadata": {},
   "outputs": [
    {
     "name": "stdout",
     "output_type": "stream",
     "text": [
      "Range-based Coefficient of Dispersion: 85.71428571428571 %\n"
     ]
    }
   ],
   "source": [
    "#(viii) Implement a function to find the range-based coefficient of dispersion for a dataset.\n",
    "\n",
    "def calculate_range_based_coefficient_of_dispersion(numbers):\n",
    "    range_value = max(numbers) - min(numbers)\n",
    "    mean_value = sum(numbers) / len(numbers)\n",
    "    coefficient_of_dispersion = (range_value / mean_value) * 100\n",
    "    return coefficient_of_dispersion\n",
    "\n",
    "# Example usage:\n",
    "numbers = [200, 500]\n",
    "\n",
    "coefficient_of_dispersion = calculate_range_based_coefficient_of_dispersion(numbers)\n",
    "print(\"Range-based Coefficient of Dispersion:\", coefficient_of_dispersion, \"%\")\n"
   ]
  },
  {
   "cell_type": "code",
   "execution_count": 45,
   "metadata": {},
   "outputs": [
    {
     "name": "stdout",
     "output_type": "stream",
     "text": [
      "Expected Value: 21.0\n",
      "Variance: 49.0\n"
     ]
    }
   ],
   "source": [
    "#3- Write a Python class representing a discrete random variable with methods to calculate its expected value and variance.\n",
    "\n",
    "\n",
    "class DiscreteRandomVariable:\n",
    "    def __init__(self, values, probabilities):\n",
    "        if len(values) != len(probabilities):\n",
    "            raise ValueError(\"Values and probabilities must have the same length\")\n",
    "        if not np.isclose(sum(probabilities), 1):\n",
    "            raise ValueError(\"Probabilities must sum to 1\")\n",
    "        self.values = values\n",
    "        self.probabilities = probabilities\n",
    "\n",
    "    def expected_value(self):\n",
    "        return sum(value * probability for value, probability in zip(self.values, self.probabilities))\n",
    "\n",
    "    def variance(self):\n",
    "        expected_value = self.expected_value()\n",
    "        return sum((value - expected_value) ** 2 * probability for value, probability in zip(self.values, self.probabilities))\n",
    "\n",
    "# Example usage:\n",
    "values = [10, 20, 30]\n",
    "probabilities = [0.2, 0.5, 0.3]\n",
    "\n",
    "random_variable = DiscreteRandomVariable(values, probabilities)\n",
    "print(\"Expected Value:\", random_variable.expected_value())\n",
    "print(\"Variance:\", random_variable.variance())\n",
    "\n"
   ]
  },
  {
   "cell_type": "code",
   "execution_count": 46,
   "metadata": {},
   "outputs": [
    {
     "name": "stdout",
     "output_type": "stream",
     "text": [
      "Expected Value: 3.494\n",
      "Variance: 2.979964\n"
     ]
    }
   ],
   "source": [
    "#4- Implement a program to simulate the rolling of a fair six-sided die and calculate the expected value and variance of the outcomes.\n",
    "\n",
    "\n",
    "import random\n",
    "\n",
    "# Function to simulate die rolls\n",
    "def simulate_die_rolls(num_rolls):\n",
    "    outcomes = [random.randint(1, 6) for _ in range(num_rolls)]\n",
    "    return outcomes\n",
    "\n",
    "# Function to calculate expected value\n",
    "def expected_value(outcomes):\n",
    "    return sum(outcomes) / len(outcomes)\n",
    "\n",
    "# Function to calculate variance\n",
    "def variance(outcomes):\n",
    "    mean = expected_value(outcomes)\n",
    "    return sum((x - mean) ** 2 for x in outcomes) / len(outcomes)\n",
    "\n",
    "# Simulate 1000 rolls of a fair six-sided die\n",
    "num_rolls = 1000\n",
    "outcomes = simulate_die_rolls(num_rolls)\n",
    "\n",
    "# Calculate expected value and variance\n",
    "ev = expected_value(outcomes)\n",
    "var = variance(outcomes)\n",
    "\n",
    "print(\"Expected Value:\", ev)\n",
    "print(\"Variance:\", var)\n"
   ]
  },
  {
   "cell_type": "code",
   "execution_count": 47,
   "metadata": {},
   "outputs": [
    {
     "name": "stdout",
     "output_type": "stream",
     "text": [
      "Binomial Distribution:\n",
      "Mean: 5.051\n",
      "Variance: 2.4263989999999995\n",
      "\n",
      "Poisson Distribution:\n",
      "Mean: 4.997\n",
      "Variance: 5.300991\n"
     ]
    }
   ],
   "source": [
    "#5-Create a Python function to generate random samples from a given probability distribution (e.g.,binomial, Poisson) and calculate their mean and variance.\n",
    "\n",
    "import numpy as np\n",
    "\n",
    "# Function to generate random samples from a distribution and calculate mean and variance\n",
    "def generate_samples_and_statistics(distribution, params, num_samples=1000):\n",
    "    if distribution == 'binomial':\n",
    "        n, p = params\n",
    "        samples = np.random.binomial(n, p, num_samples)\n",
    "    elif distribution == 'poisson':\n",
    "        lam = params[0]\n",
    "        samples = np.random.poisson(lam, num_samples)\n",
    "    else:\n",
    "        raise ValueError(\"Unsupported distribution. Use 'binomial' or 'poisson'.\")\n",
    "\n",
    "    mean = np.mean(samples)\n",
    "    variance = np.var(samples)\n",
    "    \n",
    "    return samples, mean, variance\n",
    "\n",
    "# Example usage:\n",
    "binomial_samples, binomial_mean, binomial_variance = generate_samples_and_statistics('binomial', (10, 0.5))\n",
    "poisson_samples, poisson_mean, poisson_variance = generate_samples_and_statistics('poisson', (5,))\n",
    "\n",
    "print(\"Binomial Distribution:\")\n",
    "print(\"Mean:\", binomial_mean)\n",
    "print(\"Variance:\", binomial_variance)\n",
    "print()\n",
    "print(\"Poisson Distribution:\")\n",
    "print(\"Mean:\", poisson_mean)\n",
    "print(\"Variance:\", poisson_variance)\n"
   ]
  },
  {
   "cell_type": "code",
   "execution_count": 49,
   "metadata": {},
   "outputs": [
    {
     "name": "stdout",
     "output_type": "stream",
     "text": [
      "Generated Mean: 2.066273769617677\n",
      "Generated Variance: 8.29793464240905\n",
      "Generated Standard Deviation: 2.8806135878331633\n"
     ]
    }
   ],
   "source": [
    "#6- Write a Python script to generate random numbers from a Gaussian (normal) distribution and compute the mean, variance, and standard deviation of the samples.\n",
    "\n",
    "import numpy as np\n",
    "\n",
    "# Generate random numbers from a Gaussian distribution\n",
    "num_samples = 1000\n",
    "mean = 2\n",
    "std_dev = 3\n",
    "samples = np.random.normal(mean, std_dev, num_samples)\n",
    "\n",
    "# Compute mean, variance, and standard deviation\n",
    "computed_mean = np.mean(samples)\n",
    "computed_variance = np.var(samples)\n",
    "computed_std_dev = np.std(samples)\n",
    "\n",
    "print(\"Generated Mean:\", computed_mean)\n",
    "print(\"Generated Variance:\", computed_variance)\n",
    "print(\"Generated Standard Deviation:\", computed_std_dev)\n",
    "\n"
   ]
  },
  {
   "cell_type": "code",
   "execution_count": 6,
   "metadata": {},
   "outputs": [
    {
     "name": "stdout",
     "output_type": "stream",
     "text": [
      "Total Bill - Mean: 19.78594262295082\n",
      "Total Bill - Variance: 79.25293861397827\n",
      "Total Bill - Standard Deviation: 8.902411954856856\n",
      "\n",
      "Tip - Mean: 2.99827868852459\n",
      "Tip - Variance: 1.914454638062471\n",
      "Tip - Standard Deviation: 1.3836381890011822\n"
     ]
    }
   ],
   "source": [
    "#7- Use seaborn library to load tips dataset. Find the following from the dataset for the columns total_bill and tip\n",
    "\n",
    "import seaborn as sns\n",
    "import pandas as pd\n",
    "\n",
    "# Load the tips dataset\n",
    "tips = sns.load_dataset('tips')\n",
    "\n",
    "# Calculate statistics for total_bill and tip\n",
    "total_bill_mean = tips['total_bill'].mean()\n",
    "total_bill_variance = tips['total_bill'].var()\n",
    "total_bill_std_dev = tips['total_bill'].std()\n",
    "\n",
    "tip_mean = tips['tip'].mean()\n",
    "tip_variance = tips['tip'].var()\n",
    "tip_std_dev = tips['tip'].std()\n",
    "\n",
    "# Print the results\n",
    "print(\"Total Bill - Mean:\", total_bill_mean)\n",
    "print(\"Total Bill - Variance:\", total_bill_variance)\n",
    "print(\"Total Bill - Standard Deviation:\", total_bill_std_dev)\n",
    "print()\n",
    "print(\"Tip - Mean:\", tip_mean)\n",
    "print(\"Tip - Variance:\", tip_variance)\n",
    "print(\"Tip - Standard Deviation:\", tip_std_dev)\n",
    "\n"
   ]
  },
  {
   "cell_type": "code",
   "execution_count": 7,
   "metadata": {},
   "outputs": [
    {
     "name": "stdout",
     "output_type": "stream",
     "text": [
      "Total Bill Skewness: 1.1262346334818638\n",
      "Tip Skewness: 1.4564266884221506\n"
     ]
    }
   ],
   "source": [
    "#(i) Write a Python function that calculates their skewness.\n",
    "\n",
    "import seaborn as sns\n",
    "from scipy.stats import skew\n",
    "\n",
    "# Load the tips dataset\n",
    "tips = sns.load_dataset('tips')\n",
    "\n",
    "# Function to calculate skewness\n",
    "def calculate_skewness(data):\n",
    "    return skew(data)\n",
    "\n",
    "# Calculate skewness for total_bill and tip\n",
    "total_bill_skewness = calculate_skewness(tips['total_bill'])\n",
    "tip_skewness = calculate_skewness(tips['tip'])\n",
    "\n",
    "print(\"Total Bill Skewness:\", total_bill_skewness)\n",
    "print(\"Tip Skewness:\", tip_skewness)\n"
   ]
  },
  {
   "cell_type": "code",
   "execution_count": 8,
   "metadata": {},
   "outputs": [
    {
     "name": "stdout",
     "output_type": "stream",
     "text": [
      "Total Bill: Positive Skewness\n",
      "Tip: Positive Skewness\n"
     ]
    }
   ],
   "source": [
    "#(ii) Create a program that determines whether the columns exhibit positive skewness, negative skewness, or is approximately symmetric.\n",
    "\n",
    "import seaborn as sns\n",
    "from scipy.stats import skew\n",
    "\n",
    "# Load the tips dataset\n",
    "tips = sns.load_dataset('tips')\n",
    "\n",
    "# Function to determine skewness type\n",
    "def determine_skewness(data):\n",
    "    skewness_value = skew(data)\n",
    "    if skewness_value > 0:\n",
    "        return \"Positive Skewness\"\n",
    "    elif skewness_value < 0:\n",
    "        return \"Negative Skewness\"\n",
    "    else:\n",
    "        return \"Approximately Symmetric\"\n",
    "\n",
    "# Analyze skewness for total_bill and tip\n",
    "total_bill_skewness = determine_skewness(tips['total_bill'])\n",
    "tip_skewness = determine_skewness(tips['tip'])\n",
    "\n",
    "print(\"Total Bill:\", total_bill_skewness)\n",
    "print(\"Tip:\", tip_skewness)\n",
    "\n",
    "\n",
    "\n"
   ]
  },
  {
   "cell_type": "code",
   "execution_count": 9,
   "metadata": {},
   "outputs": [
    {
     "name": "stdout",
     "output_type": "stream",
     "text": [
      "Covariance between total_bill and tip: 8.323501629224854\n"
     ]
    }
   ],
   "source": [
    "#(iii) Write a function that calculates the covariance between two columns\n",
    "\n",
    "import pandas as pd\n",
    "\n",
    "# Function to calculate covariance between two columns\n",
    "def calculate_covariance(df, col1, col2):\n",
    "    return df[col1].cov(df[col2])\n",
    "\n",
    "# Example usage with tips dataset:\n",
    "tips = sns.load_dataset('tips')\n",
    "covariance = calculate_covariance(tips, 'total_bill', 'tip')\n",
    "\n",
    "print(\"Covariance between total_bill and tip:\", covariance)\n",
    "\n"
   ]
  },
  {
   "cell_type": "code",
   "execution_count": 10,
   "metadata": {},
   "outputs": [
    {
     "name": "stdout",
     "output_type": "stream",
     "text": [
      "Pearson Correlation Coefficient between total_bill and tip: 0.6757341092113641\n"
     ]
    }
   ],
   "source": [
    "#(iv) Implement a Python program that calculates the Pearson correlation coefficient between two columns.\n",
    "\n",
    "import pandas as pd\n",
    "\n",
    "# Function to calculate Pearson correlation coefficient between two columns\n",
    "def calculate_pearson_correlation(df, col1, col2):\n",
    "    return df[col1].corr(df[col2])\n",
    "\n",
    "# Example usage with tips dataset:\n",
    "tips = sns.load_dataset('tips')\n",
    "pearson_correlation = calculate_pearson_correlation(tips, 'total_bill', 'tip')\n",
    "\n",
    "print(\"Pearson Correlation Coefficient between total_bill and tip:\", pearson_correlation)\n"
   ]
  },
  {
   "cell_type": "code",
   "execution_count": 11,
   "metadata": {},
   "outputs": [
    {
     "data": {
      "image/png": "[encoded data removed]",
      "text/plain": [
       "<Figure size 1000x600 with 1 Axes>"
      ]
     },
     "metadata": {},
     "output_type": "display_data"
    }
   ],
   "source": [
    "#(v) Write a script to visualize the correlation between two specific columns in a Pandas DataFrame using scatter plots.\n",
    "\n",
    "import seaborn as sns\n",
    "import matplotlib.pyplot as plt\n",
    "\n",
    "# Load the tips dataset\n",
    "tips = sns.load_dataset('tips')\n",
    "\n",
    "# Scatter plot to visualize correlation\n",
    "plt.figure(figsize=(10, 6))\n",
    "sns.scatterplot(x='total_bill', y='tip', data=tips)\n",
    "plt.title('Correlation between Total Bill and Tip')\n",
    "plt.xlabel('Total Bill')\n",
    "plt.ylabel('Tip')\n",
    "plt.show()\n",
    "\n"
   ]
  },
  {
   "cell_type": "code",
   "execution_count": 12,
   "metadata": {},
   "outputs": [
    {
     "name": "stdout",
     "output_type": "stream",
     "text": [
      "[0.00443185 0.00530579 0.00632878 0.00752133 0.00890582 0.0105065\n",
      " 0.01234943 0.01446241 0.01687483 0.01961746 0.02272223 0.02622189\n",
      " 0.03014961 0.03453857 0.03942137 0.0448295  0.05079264 0.05733801\n",
      " 0.06448952 0.07226707 0.08068571 0.08975477 0.09947714 0.10984842\n",
      " 0.12085626 0.13247967 0.14468855 0.15744319 0.17069405 0.18438164\n",
      " 0.1984366  0.21277993 0.22732351 0.24197072 0.2566174  0.27115285\n",
      " 0.28546117 0.29942268 0.31291556 0.3258175  0.33800759 0.34936814\n",
      " 0.35978656 0.36915722 0.37738323 0.38437808 0.3900672  0.39438923\n",
      " 0.39729716 0.39875915 0.39875915 0.39729716 0.39438923 0.3900672\n",
      " 0.38437808 0.37738323 0.36915722 0.35978656 0.34936814 0.33800759\n",
      " 0.3258175  0.31291556 0.29942268 0.28546117 0.27115285 0.2566174\n",
      " 0.24197072 0.22732351 0.21277993 0.1984366  0.18438164 0.17069405\n",
      " 0.15744319 0.14468855 0.13247967 0.12085626 0.10984842 0.09947714\n",
      " 0.08975477 0.08068571 0.07226707 0.06448952 0.05733801 0.05079264\n",
      " 0.0448295  0.03942137 0.03453857 0.03014961 0.02622189 0.02272223\n",
      " 0.01961746 0.01687483 0.01446241 0.01234943 0.0105065  0.00890582\n",
      " 0.00752133 0.00632878 0.00530579 0.00443185]\n"
     ]
    }
   ],
   "source": [
    "#8- Write a Python function to calculate the probability density function (PDF) of a continuous random variable for a given normal distribution.\n",
    "\n",
    "\n",
    "import numpy as np\n",
    "from scipy.stats import norm\n",
    "\n",
    "# Function to calculate PDF of a normal distribution\n",
    "def calculate_pdf(x, mean, std_dev):\n",
    "    pdf_values = norm.pdf(x, loc=mean, scale=std_dev)\n",
    "    return pdf_values\n",
    "\n",
    "# Example usage:\n",
    "x_values = np.linspace(-3, 3, 100)\n",
    "mean = 0\n",
    "std_dev = 1\n",
    "\n",
    "pdf_values = calculate_pdf(x_values, mean, std_dev)\n",
    "print(pdf_values)\n"
   ]
  },
  {
   "cell_type": "code",
   "execution_count": 13,
   "metadata": {},
   "outputs": [
    {
     "name": "stdout",
     "output_type": "stream",
     "text": [
      "[0.         0.0960761  0.18292158 0.26142329 0.33238285 0.3965249\n",
      " 0.45450444 0.50691352 0.55428735 0.59710968 0.63581781 0.67080701\n",
      " 0.70243459 0.73102351 0.75686572 0.78022512 0.80134023 0.82042669\n",
      " 0.83767939 0.85327452 0.86737133 0.88011378 0.89163198 0.90204355\n",
      " 0.91145483 0.9199619  0.92765165 0.9346026  0.94088572 0.94656519\n",
      " 0.951699   0.95633957 0.9605343  0.96432601 0.96775342 0.97085155\n",
      " 0.97365202 0.97618343 0.97847163 0.98053999 0.98240964 0.98409965\n",
      " 0.98562729 0.98700817 0.98825637 0.98938465 0.99040453 0.99132643\n",
      " 0.99215975 0.99291301 0.9935939  0.99420938 0.99476572 0.99526861\n",
      " 0.99572318 0.99613408 0.9965055  0.99684124 0.99714472 0.99741905\n",
      " 0.99766701 0.99789116 0.99809377 0.99827691 0.99844246 0.9985921\n",
      " 0.99872737 0.99884964 0.99896016 0.99906006 0.99915037 0.999232\n",
      " 0.99930578 0.99937248 0.99943277 0.99948727 0.99953653 0.99958106\n",
      " 0.99962131 0.99965769 0.99969058 0.99972031 0.99974718 0.99977147\n",
      " 0.99979343 0.99981327 0.99983121 0.99984743 0.99986209 0.99987534\n",
      " 0.99988731 0.99989814 0.99990793 0.99991677 0.99992477 0.999932\n",
      " 0.99993853 0.99994444 0.99994977 0.9999546 ]\n"
     ]
    }
   ],
   "source": [
    "#9- Create a program to calculate the cumulative distribution function (CDF) of exponential distribution.\n",
    "\n",
    "import numpy as np\n",
    "from scipy.stats import expon\n",
    "\n",
    "# Function to calculate CDF of exponential distribution\n",
    "def calculate_cdf(x, scale):\n",
    "    cdf_values = expon.cdf(x, scale=scale)\n",
    "    return cdf_values\n",
    "\n",
    "# Example usage:\n",
    "x_values = np.linspace(0, 10, 100)\n",
    "scale = 1  # This is the inverse of the rate parameter (λ)\n",
    "\n",
    "cdf_values = calculate_cdf(x_values, scale)\n",
    "print(cdf_values)\n"
   ]
  },
  {
   "cell_type": "code",
   "execution_count": 14,
   "metadata": {},
   "outputs": [
    {
     "name": "stdout",
     "output_type": "stream",
     "text": [
      "PMF Value: 0.10081881344492458\n"
     ]
    }
   ],
   "source": [
    "#10- Write a Python function to calculate the probability mass function (PMF) of Poisson distribution.\n",
    "\n",
    "from scipy.stats import poisson\n",
    "\n",
    "# Function to calculate PMF of Poisson distribution\n",
    "def calculate_pmf(k, lambda_):\n",
    "    pmf_value = poisson.pmf(k, mu=lambda_)\n",
    "    return pmf_value\n",
    "\n",
    "# Example usage:\n",
    "k = 5  # Number of occurrences\n",
    "lambda_ = 3  # Average rate (λ)\n",
    "\n",
    "pmf_value = calculate_pmf(k, lambda_)\n",
    "print(\"PMF Value:\", pmf_value)\n"
   ]
  },
  {
   "cell_type": "code",
   "execution_count": 21,
   "metadata": {},
   "outputs": [
    {
     "name": "stdout",
     "output_type": "stream",
     "text": [
      "Collecting statsmodels\n",
      "  Downloading statsmodels-0.14.4-cp312-cp312-win_amd64.whl.metadata (9.5 kB)\n",
      "Requirement already satisfied: numpy<3,>=1.22.3 in c:\\users\\suraj\\appdata\\local\\programs\\python\\python312\\lib\\site-packages (from statsmodels) (2.1.1)\n",
      "Requirement already satisfied: scipy!=1.9.2,>=1.8 in c:\\users\\suraj\\appdata\\local\\programs\\python\\python312\\lib\\site-packages (from statsmodels) (1.14.1)\n",
      "Requirement already satisfied: pandas!=2.1.0,>=1.4 in c:\\users\\suraj\\appdata\\local\\programs\\python\\python312\\lib\\site-packages (from statsmodels) (2.2.3)\n",
      "Collecting patsy>=0.5.6 (from statsmodels)\n",
      "  Downloading patsy-0.5.6-py2.py3-none-any.whl.metadata (3.5 kB)\n",
      "Requirement already satisfied: packaging>=21.3 in c:\\users\\suraj\\appdata\\local\\programs\\python\\python312\\lib\\site-packages (from statsmodels) (24.1)\n",
      "Requirement already satisfied: python-dateutil>=2.8.2 in c:\\users\\suraj\\appdata\\local\\programs\\python\\python312\\lib\\site-packages (from pandas!=2.1.0,>=1.4->statsmodels) (2.9.0.post0)\n",
      "Requirement already satisfied: pytz>=2020.1 in c:\\users\\suraj\\appdata\\local\\programs\\python\\python312\\lib\\site-packages (from pandas!=2.1.0,>=1.4->statsmodels) (2024.2)\n",
      "Requirement already satisfied: tzdata>=2022.7 in c:\\users\\suraj\\appdata\\local\\programs\\python\\python312\\lib\\site-packages (from pandas!=2.1.0,>=1.4->statsmodels) (2024.2)\n",
      "Requirement already satisfied: six in c:\\users\\suraj\\appdata\\local\\programs\\python\\python312\\lib\\site-packages (from patsy>=0.5.6->statsmodels) (1.16.0)\n",
      "Downloading statsmodels-0.14.4-cp312-cp312-win_amd64.whl (9.8 MB)\n",
      "   ---------------------------------------- 0.0/9.8 MB ? eta -:--:--\n",
      "   ---------------------------------------- 0.0/9.8 MB ? eta -:--:--\n",
      "   ---------------------------------------- 0.1/9.8 MB 1.1 MB/s eta 0:00:09\n",
      "   - -------------------------------------- 0.3/9.8 MB 3.4 MB/s eta 0:00:03\n",
      "   --- ------------------------------------ 0.7/9.8 MB 5.9 MB/s eta 0:00:02\n",
      "   --- ------------------------------------ 0.9/9.8 MB 5.1 MB/s eta 0:00:02\n",
      "   ---- ----------------------------------- 1.0/9.8 MB 5.1 MB/s eta 0:00:02\n",
      "   ---- ----------------------------------- 1.2/9.8 MB 4.9 MB/s eta 0:00:02\n",
      "   ---- ----------------------------------- 1.2/9.8 MB 4.9 MB/s eta 0:00:02\n",
      "   ---- ----------------------------------- 1.2/9.8 MB 4.9 MB/s eta 0:00:02\n",
      "   ---- ----------------------------------- 1.2/9.8 MB 3.3 MB/s eta 0:00:03\n",
      "   ----- ---------------------------------- 1.3/9.8 MB 3.4 MB/s eta 0:00:03\n",
      "   ----- ---------------------------------- 1.4/9.8 MB 3.3 MB/s eta 0:00:03\n",
      "   ----- ---------------------------------- 1.4/9.8 MB 3.3 MB/s eta 0:00:03\n",
      "   -------- ------------------------------- 2.0/9.8 MB 3.8 MB/s eta 0:00:03\n",
      "   -------- ------------------------------- 2.1/9.8 MB 3.8 MB/s eta 0:00:03\n",
      "   --------- ------------------------------ 2.3/9.8 MB 3.8 MB/s eta 0:00:02\n",
      "   --------- ------------------------------ 2.4/9.8 MB 3.8 MB/s eta 0:00:02\n",
      "   ---------- ----------------------------- 2.5/9.8 MB 3.9 MB/s eta 0:00:02\n",
      "   ----------- ---------------------------- 2.7/9.8 MB 3.8 MB/s eta 0:00:02\n",
      "   ----------- ---------------------------- 2.7/9.8 MB 3.8 MB/s eta 0:00:02\n",
      "   ----------- ---------------------------- 2.7/9.8 MB 3.8 MB/s eta 0:00:02\n",
      "   ----------- ---------------------------- 2.7/9.8 MB 3.8 MB/s eta 0:00:02\n",
      "   ----------- ---------------------------- 2.9/9.8 MB 3.4 MB/s eta 0:00:03\n",
      "   ------------ --------------------------- 3.1/9.8 MB 3.4 MB/s eta 0:00:02\n",
      "   ------------- -------------------------- 3.3/9.8 MB 3.5 MB/s eta 0:00:02\n",
      "   ------------- -------------------------- 3.4/9.8 MB 3.5 MB/s eta 0:00:02\n",
      "   -------------- ------------------------- 3.6/9.8 MB 3.5 MB/s eta 0:00:02\n",
      "   --------------- ------------------------ 3.7/9.8 MB 3.5 MB/s eta 0:00:02\n",
      "   --------------- ------------------------ 3.9/9.8 MB 3.5 MB/s eta 0:00:02\n",
      "   ---------------- ----------------------- 4.0/9.8 MB 3.5 MB/s eta 0:00:02\n",
      "   ----------------- ---------------------- 4.2/9.8 MB 3.6 MB/s eta 0:00:02\n",
      "   ----------------- ---------------------- 4.2/9.8 MB 3.6 MB/s eta 0:00:02\n",
      "   ----------------- ---------------------- 4.2/9.8 MB 3.6 MB/s eta 0:00:02\n",
      "   ----------------- ---------------------- 4.2/9.8 MB 3.6 MB/s eta 0:00:02\n",
      "   ------------------ --------------------- 4.5/9.8 MB 3.4 MB/s eta 0:00:02\n",
      "   ------------------- -------------------- 4.7/9.8 MB 3.5 MB/s eta 0:00:02\n",
      "   -------------------- ------------------- 5.1/9.8 MB 3.7 MB/s eta 0:00:02\n",
      "   --------------------- ------------------ 5.2/9.8 MB 3.6 MB/s eta 0:00:02\n",
      "   --------------------- ------------------ 5.4/9.8 MB 3.7 MB/s eta 0:00:02\n",
      "   ---------------------- ----------------- 5.5/9.8 MB 3.6 MB/s eta 0:00:02\n",
      "   ----------------------- ---------------- 5.7/9.8 MB 3.7 MB/s eta 0:00:02\n",
      "   ----------------------- ---------------- 5.8/9.8 MB 3.6 MB/s eta 0:00:02\n",
      "   ------------------------ --------------- 5.9/9.8 MB 3.7 MB/s eta 0:00:02\n",
      "   ------------------------ --------------- 6.1/9.8 MB 3.7 MB/s eta 0:00:02\n",
      "   ------------------------- -------------- 6.2/9.8 MB 3.7 MB/s eta 0:00:01\n",
      "   -------------------------- ------------- 6.4/9.8 MB 3.7 MB/s eta 0:00:01\n",
      "   -------------------------- ------------- 6.5/9.8 MB 3.7 MB/s eta 0:00:01\n",
      "   --------------------------- ------------ 6.7/9.8 MB 3.7 MB/s eta 0:00:01\n",
      "   --------------------------- ------------ 6.8/9.8 MB 3.7 MB/s eta 0:00:01\n",
      "   ---------------------------- ----------- 7.0/9.8 MB 3.7 MB/s eta 0:00:01\n",
      "   ----------------------------- ---------- 7.2/9.8 MB 3.7 MB/s eta 0:00:01\n",
      "   ----------------------------- ---------- 7.3/9.8 MB 3.7 MB/s eta 0:00:01\n",
      "   ------------------------------ --------- 7.5/9.8 MB 3.7 MB/s eta 0:00:01\n",
      "   ------------------------------ --------- 7.6/9.8 MB 3.7 MB/s eta 0:00:01\n",
      "   ------------------------------- -------- 7.8/9.8 MB 3.7 MB/s eta 0:00:01\n",
      "   -------------------------------- ------- 7.9/9.8 MB 3.7 MB/s eta 0:00:01\n",
      "   -------------------------------- ------- 8.1/9.8 MB 3.7 MB/s eta 0:00:01\n",
      "   --------------------------------- ------ 8.2/9.8 MB 3.7 MB/s eta 0:00:01\n",
      "   ---------------------------------- ----- 8.4/9.8 MB 3.7 MB/s eta 0:00:01\n",
      "   ---------------------------------- ----- 8.5/9.8 MB 3.7 MB/s eta 0:00:01\n",
      "   ----------------------------------- ---- 8.7/9.8 MB 3.7 MB/s eta 0:00:01\n",
      "   ------------------------------------ --- 8.9/9.8 MB 3.7 MB/s eta 0:00:01\n",
      "   ------------------------------------ --- 9.0/9.8 MB 3.7 MB/s eta 0:00:01\n",
      "   ------------------------------------- -- 9.2/9.8 MB 3.7 MB/s eta 0:00:01\n",
      "   -------------------------------------- - 9.3/9.8 MB 3.7 MB/s eta 0:00:01\n",
      "   -------------------------------------- - 9.5/9.8 MB 3.7 MB/s eta 0:00:01\n",
      "   ---------------------------------------  9.6/9.8 MB 3.7 MB/s eta 0:00:01\n",
      "   ---------------------------------------  9.8/9.8 MB 3.7 MB/s eta 0:00:01\n",
      "   ---------------------------------------- 9.8/9.8 MB 3.7 MB/s eta 0:00:00\n",
      "Downloading patsy-0.5.6-py2.py3-none-any.whl (233 kB)\n",
      "   ---------------------------------------- 0.0/233.9 kB ? eta -:--:--\n",
      "   -------------------------------------- - 225.3/233.9 kB 6.9 MB/s eta 0:00:01\n",
      "   ---------------------------------------- 233.9/233.9 kB 7.2 MB/s eta 0:00:00\n",
      "Installing collected packages: patsy, statsmodels\n",
      "Successfully installed patsy-0.5.6 statsmodels-0.14.4\n",
      "Note: you may need to restart the kernel to use updated packages.\n"
     ]
    },
    {
     "name": "stderr",
     "output_type": "stream",
     "text": [
      "\n",
      "[notice] A new release of pip is available: 24.0 -> 24.3.1\n",
      "[notice] To update, run: python.exe -m pip install --upgrade pip\n"
     ]
    }
   ],
   "source": [
    "pip install statsmodels"
   ]
  },
  {
   "cell_type": "code",
   "execution_count": 22,
   "metadata": {},
   "outputs": [
    {
     "name": "stdout",
     "output_type": "stream",
     "text": [
      "Z-statistic: -1.883108942886774\n",
      "P-value: 0.05968560553242621\n",
      "Fail to reject the null hypothesis: There is no significant difference in conversion rates.\n"
     ]
    }
   ],
   "source": [
    "#11-A company wants to test if a new website layout leads to a higher conversion rate (percentage of visitors who make a purchase). They collect data from the old and new layouts to compare.\n",
    "\n",
    "\n",
    "#To generate the data use the following command:\n",
    "import numpy as np\n",
    "\n",
    "# 50 purchases out of 1000 visitors\n",
    "#old_layout = np.array([1] * 50 + [0] * 950)\n",
    "# 70 purchases out of 1000 visitors  \n",
    "#new_layout = np.array([1] * 70 + [0] * 930)\n",
    "#Apply z-test to find which layout is successful.\n",
    "\n",
    "\n",
    "import numpy as np\n",
    "from statsmodels.stats.proportion import proportions_ztest\n",
    "\n",
    "# Data\n",
    "old_layout = np.array([1] * 50 + [0] * 950)\n",
    "new_layout = np.array([1] * 70 + [0] * 930)\n",
    "\n",
    "# Counts and sample sizes\n",
    "count = np.array([sum(old_layout), sum(new_layout)])\n",
    "nobs = np.array([len(old_layout), len(new_layout)])\n",
    "\n",
    "# Perform z-test\n",
    "z_stat, p_value = proportions_ztest(count, nobs)\n",
    "print(\"Z-statistic:\", z_stat)\n",
    "print(\"P-value:\", p_value)\n",
    "\n",
    "# Interpretation\n",
    "alpha = 0.05  # significance level\n",
    "\n",
    "if p_value < alpha:\n",
    "    print(\"Reject the null hypothesis: There is a significant difference in conversion rates.\")\n",
    "else:\n",
    "    print(\"Fail to reject the null hypothesis: There is no significant difference in conversion rates.\")\n",
    "\n"
   ]
  },
  {
   "cell_type": "code",
   "execution_count": 23,
   "metadata": {},
   "outputs": [
    {
     "name": "stdout",
     "output_type": "stream",
     "text": [
      "Z-statistic: 1.3600371723457605\n",
      "P-value: 0.17381816101827674\n",
      "Fail to reject the null hypothesis: The tutoring program does not have a significant effect on the scores.\n"
     ]
    }
   ],
   "source": [
    "#12- A tutoring service claims that its program improves students' exam scores. A sample of students who participated in the program was taken, and their scores before and after the program were recorded.\n",
    "#Use the below code to generate samples of respective arrays of marks:\n",
    "#before_program = np.array([75, 80, 85, 70, 90, 78, 92, 88, 82, 87])\n",
    "# #after_program = np.array([80, 85, 90, 80, 92, 80, 95, 90, 85, 88])\n",
    "#Use z-test to find if the claims made by tutor are true or false.\n",
    "\n",
    "import numpy as np\n",
    "from statsmodels.stats.weightstats import ztest\n",
    "\n",
    "# Generate the samples\n",
    "before_program = np.array([75, 80, 85, 70, 90, 78, 92, 88, 82, 87])\n",
    "after_program = np.array([80, 85, 90, 80, 92, 80, 95, 90, 85, 88])\n",
    "\n",
    "# Perform z-test\n",
    "z_stat, p_value = ztest(after_program, before_program)\n",
    "\n",
    "print(\"Z-statistic:\", z_stat)\n",
    "print(\"P-value:\", p_value)\n",
    "\n",
    "# Interpretation\n",
    "alpha = 0.05  # significance level\n",
    "\n",
    "if p_value < alpha:\n",
    "    print(\"Reject the null hypothesis: The tutoring program has a significant effect on the scores.\")\n",
    "else:\n",
    "    print(\"Fail to reject the null hypothesis: The tutoring program does not have a significant effect on the scores.\")\n"
   ]
  },
  {
   "cell_type": "code",
   "execution_count": 24,
   "metadata": {},
   "outputs": [
    {
     "name": "stdout",
     "output_type": "stream",
     "text": [
      "Z-statistic: -2.639577121919447\n",
      "P-value: 0.008300953387191556\n",
      "Reject the null hypothesis: The drug has a significant effect on blood pressure.\n"
     ]
    }
   ],
   "source": [
    "#13- A pharmaceutical company wants to determine if a new drug is effective in reducing blood pressure. They conduct a study and record blood pressure measurements before and after administering the drug.\n",
    "#Use the below code to generate samples of respective arrays of blood pressure:\n",
    "#before_drug = np.array([145, 150, 140, 135, 155, 160, 152, 148, 130, 138])\n",
    "#after_drug = np.array([130, 140, 132, 128, 145, 148, 138, 136, 125, 130])\n",
    "#Implement z-test to find if the drug really works or not.\n",
    "\n",
    "\n",
    "import numpy as np\n",
    "from statsmodels.stats.weightstats import ztest\n",
    "\n",
    "# Blood pressure data\n",
    "before_drug = np.array([145, 150, 140, 135, 155, 160, 152, 148, 130, 138])\n",
    "after_drug = np.array([130, 140, 132, 128, 145, 148, 138, 136, 125, 130])\n",
    "\n",
    "# Perform z-test\n",
    "z_stat, p_value = ztest(after_drug, before_drug)\n",
    "\n",
    "print(\"Z-statistic:\", z_stat)\n",
    "print(\"P-value:\", p_value)\n",
    "\n",
    "# Interpretation\n",
    "alpha = 0.05  # significance level\n",
    "\n",
    "if p_value < alpha:\n",
    "    print(\"Reject the null hypothesis: The drug has a significant effect on blood pressure.\")\n",
    "else:\n",
    "    print(\"Fail to reject the null hypothesis: The drug does not have a significant effect on blood pressure.\")\n"
   ]
  },
  {
   "cell_type": "code",
   "execution_count": 25,
   "metadata": {},
   "outputs": [
    {
     "name": "stdout",
     "output_type": "stream",
     "text": [
      "Z-statistic: -3.1844572260429627\n",
      "P-value: 0.0007251287113068958\n",
      "Reject the null hypothesis: The average response time is significantly less than 5 minutes.\n"
     ]
    }
   ],
   "source": [
    "#14-A customer service department claims that their average response time is less than 5 minutes. A sample of recent customer interactions was taken, and the response times were recorded.\n",
    "#Implement the below code to generate the array of response time:\n",
    "#response_times = np.array([4.3, 3.8, 5.1, 4.9, 4.7, 4.2, 5.2, 4.5, 4.6, 4.4])\n",
    "#Implement z-test to find the claims made by customer service department are tru or false.\n",
    "\n",
    "import numpy as np\n",
    "from statsmodels.stats.weightstats import ztest\n",
    "\n",
    "# Generate the response times array\n",
    "response_times = np.array([4.3, 3.8, 5.1, 4.9, 4.7, 4.2, 5.2, 4.5, 4.6, 4.4])\n",
    "\n",
    "# Perform one-sample z-test\n",
    "z_stat, p_value = ztest(response_times, value=5, alternative='smaller')\n",
    "\n",
    "print(\"Z-statistic:\", z_stat)\n",
    "print(\"P-value:\", p_value)\n",
    "\n",
    "# Interpretation\n",
    "alpha = 0.05  # significance level\n",
    "\n",
    "if p_value < alpha:\n",
    "    print(\"Reject the null hypothesis: The average response time is significantly less than 5 minutes.\")\n",
    "else:\n",
    "    print(\"Fail to reject the null hypothesis: There is no significant evidence that the average response time is less than 5 minutes.\")\n"
   ]
  },
  {
   "cell_type": "code",
   "execution_count": 26,
   "metadata": {},
   "outputs": [
    {
     "name": "stdout",
     "output_type": "stream",
     "text": [
      "T-statistic: -7.2981\n",
      "Degrees of Freedom: 18\n",
      "P-value: 0.0000\n"
     ]
    }
   ],
   "source": [
    "#15- A company is testing two different website layouts to see which one leads to higher click-through rates.\n",
    "#Write a Python function to perform an A/B test analysis, including calculating the t-statistic, degrees of freedom, and p-value.\n",
    "\n",
    "#Use the following data:\n",
    "#layout_a_clicks = [28, 32, 33, 29, 31, 34, 30, 35, 36, 37]\n",
    "#layout_b_clicks = [40, 41, 38, 42, 39, 44, 43, 41, 45, 47]\n",
    "\n",
    "\n",
    "import numpy as np\n",
    "from scipy import stats\n",
    "\n",
    "def ab_test_analysis(layout_a_clicks, layout_b_clicks):\n",
    "    a = np.array(layout_a_clicks)\n",
    "    b = np.array(layout_b_clicks)\n",
    "    \n",
    "    t_stat, p_value = stats.ttest_ind(a, b, equal_var=False) \n",
    "    df = len(a) + len(b) - 2  # Degrees of freedom\n",
    "    \n",
    "    print(f\"T-statistic: {t_stat:.4f}\")\n",
    "    print(f\"Degrees of Freedom: {df}\")\n",
    "    print(f\"P-value: {p_value:.4f}\")\n",
    "\n",
    "# Data\n",
    "layout_a_clicks = [28, 32, 33, 29, 31, 34, 30, 35, 36, 37]\n",
    "layout_b_clicks = [40, 41, 38, 42, 39, 44, 43, 41, 45, 47]\n",
    "\n",
    "# Perform A/B test analysis\n",
    "ab_test_analysis(layout_a_clicks, layout_b_clicks)"
   ]
  },
  {
   "cell_type": "code",
   "execution_count": 1,
   "metadata": {},
   "outputs": [
    {
     "name": "stdout",
     "output_type": "stream",
     "text": [
      "T-statistic: 4.140480986208661\n",
      "Degrees of Freedom: 18\n",
      "P-value: 0.0006143398442373105\n",
      "Reject the null hypothesis: The new drug has a significant effect on cholesterol levels.\n"
     ]
    }
   ],
   "source": [
    "#16- A pharmaceutical company wants to determine if a new drug is more effective than an existing drug in reducing cholesterol levels. Create a program to analyze the clinical trial data and calculate the tstatistic and p-value for the treatment effect.\n",
    "#Use the following data of cholestrol level:\n",
    "#existing_drug_levels = [180, 182, 175, 185, 178, 176, 172, 184, 179, 183]\n",
    "#new_drug_levels = [170, 172, 165, 168, 175, 173, 170, 178, 172, 176]\n",
    "\n",
    "\n",
    "import numpy as np\n",
    "from scipy.stats import t\n",
    "\n",
    "# Cholesterol levels data\n",
    "existing_drug_levels = [180, 182, 175, 185, 178, 176, 172, 184, 179, 183]\n",
    "new_drug_levels = [170, 172, 165, 168, 175, 173, 170, 178, 172, 176]\n",
    "\n",
    "# Calculate the means\n",
    "mean_existing = np.mean(existing_drug_levels)\n",
    "mean_new = np.mean(new_drug_levels)\n",
    "\n",
    "# Calculate the standard deviations\n",
    "std_existing = np.std(existing_drug_levels, ddof=1)\n",
    "std_new = np.std(new_drug_levels, ddof=1)\n",
    "\n",
    "# Calculate the sample sizes\n",
    "n_existing = len(existing_drug_levels)\n",
    "n_new = len(new_drug_levels)\n",
    "\n",
    "# Calculate the standard error\n",
    "se = np.sqrt((std_existing**2 / n_existing) + (std_new**2 / n_new))\n",
    "\n",
    "# Calculate the t-statistic\n",
    "t_statistic = (mean_existing - mean_new) / se\n",
    "\n",
    "# Calculate the degrees of freedom\n",
    "df = n_existing + n_new - 2\n",
    "\n",
    "# Calculate the p-value\n",
    "p_value = 2 * (1 - t.cdf(np.abs(t_statistic), df))\n",
    "\n",
    "print(\"T-statistic:\", t_statistic)\n",
    "print(\"Degrees of Freedom:\", df)\n",
    "print(\"P-value:\", p_value)\n",
    "\n",
    "# Interpretation\n",
    "alpha = 0.05  # significance level\n",
    "\n",
    "if p_value < alpha:\n",
    "    print(\"Reject the null hypothesis: The new drug has a significant effect on cholesterol levels.\")\n",
    "else:\n",
    "    print(\"Fail to reject the null hypothesis: There is no significant evidence that the new drug is more effective.\")\n"
   ]
  },
  {
   "cell_type": "code",
   "execution_count": 2,
   "metadata": {},
   "outputs": [
    {
     "name": "stdout",
     "output_type": "stream",
     "text": [
      "T-statistic: 4.080355128162117\n",
      "Degrees of Freedom: 18\n",
      "P-value: 0.0007022570725707666\n",
      "Reject the null hypothesis: The intervention had a significant impact on math scores.\n"
     ]
    }
   ],
   "source": [
    "#17- A school district introduces an educational intervention program to improve math scores. Write a Python\n",
    "#function to analyze pre- and post-intervention test scores, calculating the t-statistic and p-value to\n",
    "#determine if the intervention had a significant impact.\n",
    "#Use the following data of test score:\n",
    "#pre_intervention_scores = [80, 85, 90, 75, 88, 82, 92, 78, 85, 87]\n",
    "#post_intervention_scores = [90, 92, 88, 92, 95, 91, 96, 93, 89, 93]\n",
    "\n",
    "\n",
    "import numpy as np\n",
    "from scipy.stats import t\n",
    "\n",
    "def analyze_intervention(pre_scores, post_scores):\n",
    "    # Calculate the means\n",
    "    mean_pre = np.mean(pre_scores)\n",
    "    mean_post = np.mean(post_scores)\n",
    "    \n",
    "    # Calculate the standard deviations\n",
    "    std_pre = np.std(pre_scores, ddof=1)\n",
    "    std_post = np.std(post_scores, ddof=1)\n",
    "    \n",
    "    # Calculate the sample sizes\n",
    "    n_pre = len(pre_scores)\n",
    "    n_post = len(post_scores)\n",
    "    \n",
    "    # Calculate the standard error\n",
    "    se = np.sqrt((std_pre**2 / n_pre) + (std_post**2 / n_post))\n",
    "    \n",
    "    # Calculate the t-statistic\n",
    "    t_statistic = (mean_post - mean_pre) / se\n",
    "    \n",
    "    # Calculate the degrees of freedom\n",
    "    df = n_pre + n_post - 2\n",
    "    \n",
    "    # Calculate the p-value\n",
    "    p_value = 2 * (1 - t.cdf(np.abs(t_statistic), df))\n",
    "    \n",
    "    return t_statistic, df, p_value\n",
    "\n",
    "# Example usage:\n",
    "pre_intervention_scores = [80, 85, 90, 75, 88, 82, 92, 78, 85, 87]\n",
    "post_intervention_scores = [90, 92, 88, 92, 95, 91, 96, 93, 89, 93]\n",
    "\n",
    "t_statistic, df, p_value = analyze_intervention(pre_intervention_scores, post_intervention_scores)\n",
    "\n",
    "print(\"T-statistic:\", t_statistic)\n",
    "print(\"Degrees of Freedom:\", df)\n",
    "print(\"P-value:\", p_value)\n",
    "\n",
    "# Interpretation\n",
    "alpha = 0.05  # significance level\n",
    "\n",
    "if p_value < alpha:\n",
    "    print(\"Reject the null hypothesis: The intervention had a significant impact on math scores.\")\n",
    "else:\n",
    "    print(\"Fail to reject the null hypothesis: The intervention did not have a significant impact on math scores.\")\n"
   ]
  },
  {
   "cell_type": "code",
   "execution_count": 3,
   "metadata": {},
   "outputs": [
    {
     "name": "stdout",
     "output_type": "stream",
     "text": [
      "T-statistic: -0.061142089696313844\n",
      "Degrees of Freedom: 38\n",
      "P-value: 0.9515665020676465\n",
      "Fail to reject the null hypothesis: There is no significant difference in average salaries between male and female employees.\n"
     ]
    }
   ],
   "source": [
    "#18- An HR department wants to investigate if there's a gender-based salary gap within the company. Develop\n",
    "#a program to analyze salary data, calculate the t-statistic, and determine if there's a statistically\n",
    "#significant difference between the average salaries of male and female employees.\n",
    "# Use the below code to generate synthetic data:\n",
    "# Generate synthetic salary data for male and female employees\n",
    "#np.random.seed(0)  # For reproducibility\n",
    "#male_salaries = np.random.normal(loc=50000, scale=10000, size=20)\n",
    "#female_salaries = np.random.normal(loc=55000, scale=9000, size=20)\n",
    "\n",
    "\n",
    "import numpy as np\n",
    "from scipy.stats import t\n",
    "\n",
    "# Generate synthetic salary data for male and female employees\n",
    "np.random.seed(0)  # For reproducibility\n",
    "male_salaries = np.random.normal(loc=50000, scale=10000, size=20)\n",
    "female_salaries = np.random.normal(loc=55000, scale=9000, size=20)\n",
    "\n",
    "# Calculate the means\n",
    "mean_male = np.mean(male_salaries)\n",
    "mean_female = np.mean(female_salaries)\n",
    "\n",
    "# Calculate the standard deviations\n",
    "std_male = np.std(male_salaries, ddof=1)\n",
    "std_female = np.std(female_salaries, ddof=1)\n",
    "\n",
    "# Calculate the sample sizes\n",
    "n_male = len(male_salaries)\n",
    "n_female = len(female_salaries)\n",
    "\n",
    "# Calculate the standard error\n",
    "se = np.sqrt((std_male**2 / n_male) + (std_female**2 / n_female))\n",
    "\n",
    "# Calculate the t-statistic\n",
    "t_statistic = (mean_female - mean_male) / se\n",
    "\n",
    "# Calculate the degrees of freedom\n",
    "df = n_male + n_female - 2\n",
    "\n",
    "# Calculate the p-value\n",
    "p_value = 2 * (1 - t.cdf(np.abs(t_statistic), df))\n",
    "\n",
    "print(\"T-statistic:\", t_statistic)\n",
    "print(\"Degrees of Freedom:\", df)\n",
    "print(\"P-value:\", p_value)\n",
    "\n",
    "# Interpretation\n",
    "alpha = 0.05  # significance level\n",
    "\n",
    "if p_value < alpha:\n",
    "    print(\"Reject the null hypothesis: There is a significant difference in average salaries between male and female employees.\")\n",
    "else:\n",
    "    print(\"Fail to reject the null hypothesis: There is no significant difference in average salaries between male and female employees.\")\n"
   ]
  },
  {
   "cell_type": "code",
   "execution_count": 6,
   "metadata": {},
   "outputs": [
    {
     "name": "stdout",
     "output_type": "stream",
     "text": [
      "T-statistic: 11.325830417646698\n",
      "Degrees of Freedom: 48\n",
      "P-value: 3.552713678800501e-15\n",
      "Reject the null hypothesis: There is a significant difference in quality between the two versions.\n"
     ]
    }
   ],
   "source": [
    "#19- A manufacturer produces two different versions of a product and wants to compare their quality scores.\n",
    "#Create a Python function to analyze quality assessment data, calculate the t-statistic, and decide\n",
    "#whether there's a significant difference in quality between the two versions.\n",
    "#Use the following data:\n",
    "\n",
    "#version1_scores = [85, 88, 82, 89, 87, 84, 90, 88, 85, 86, 91, 83, 87, 84, 89, 86, 84, 88, 85, 86, 89, 90, 87, 88, 85]\n",
    "#version2_scores = [80, 78, 83, 81, 79, 82, 76, 80, 78, 81, 77, 82, 80, 79, 82, 79, 80, 81, 79, 82, 79, 78, 80, 81, 82]\n",
    "\n",
    "import numpy as np\n",
    "from scipy.stats import t\n",
    "\n",
    "def compare_quality(version1_scores, version2_scores):\n",
    "    # Calculate the means\n",
    "    mean_v1 = np.mean(version1_scores)\n",
    "    mean_v2 = np.mean(version2_scores)\n",
    "    \n",
    "    # Calculate the standard deviations\n",
    "    std_v1 = np.std(version1_scores, ddof=1)\n",
    "    std_v2 = np.std(version2_scores, ddof=1)\n",
    "    \n",
    "    # Calculate the sample sizes\n",
    "    n_v1 = len(version1_scores)\n",
    "    n_v2 = len(version2_scores)\n",
    "    \n",
    "    # Calculate the standard error\n",
    "    se = np.sqrt((std_v1**2 / n_v1) + (std_v2**2 / n_v2))\n",
    "    \n",
    "    # Calculate the t-statistic\n",
    "    t_statistic = (mean_v1 - mean_v2) / se\n",
    "    \n",
    "    # Calculate the degrees of freedom\n",
    "    df = n_v1 + n_v2 - 2\n",
    "    \n",
    "    # Calculate the p-value\n",
    "    p_value = 2 * (1 - t.cdf(np.abs(t_statistic), df))\n",
    "    \n",
    "    return t_statistic, df, p_value\n",
    "\n",
    "# Example usage:\n",
    "version1_scores = [85, 88, 82, 89, 87, 84, 90, 88, 85, 86, 91, 83, 87, 84, 89, 86, 84, 88, 85, 86, 89, 90, 87, 88, 85]\n",
    "version2_scores = [80, 78, 83, 81, 79, 82, 76, 80, 78, 81, 77, 82, 80, 79, 82, 79, 80, 81, 79, 82, 79, 78, 80, 81, 82]\n",
    "\n",
    "t_statistic, df, p_value = compare_quality(version1_scores, version2_scores)\n",
    "\n",
    "print(\"T-statistic:\", t_statistic)\n",
    "print(\"Degrees of Freedom:\", df)\n",
    "print(\"P-value:\", p_value)\n",
    "\n",
    "# Interpretation\n",
    "alpha = 1 # significance level\n",
    "\n",
    "if p_value < alpha:\n",
    "    print(\"Reject the null hypothesis: There is a significant difference in quality between the two versions.\")\n",
    "else:\n",
    "    print(\"Fail to reject the null hypothesis: There is no significant difference in quality between the two versions.\")\n",
    "\n"
   ]
  },
  {
   "cell_type": "code",
   "execution_count": 7,
   "metadata": {},
   "outputs": [
    {
     "name": "stdout",
     "output_type": "stream",
     "text": [
      "T-statistic: 5.480077554195743\n",
      "P-value: 8.895290509945657e-07\n",
      "Reject the null hypothesis: Significant difference in customer satisfaction between branches.\n"
     ]
    }
   ],
   "source": [
    "#20-  A restaurant chain collects customer satisfaction scores for two different branches. Write a program to\n",
    "#analyze the scores, calculate the t-statistic, and determine if there's a statistically significant difference in\n",
    "#customer satisfaction between the branches.\n",
    "#Use the below data of scores:\n",
    "#branch_a_scores = [4, 5, 3, 4, 5, 4, 5, 3, 4, 4, 5, 4, 4, 3, 4, 5, 5, 4, 3, 4, 5, 4, 3, 5, 4, 4, 5, 3, 4, 5, 4]\n",
    "#branch_b_scores = [3, 4, 2, 3, 4, 3, 4, 2, 3, 3, 4, 3, 3, 2, 3, 4, 4, 3, 2, 3, 4, 3, 2, 4, 3, 3, 4, 2, 3, 4, 3]\n",
    "\n",
    "\n",
    "from scipy.stats import ttest_ind\n",
    "\n",
    "def compare_satisfaction(branch_a, branch_b):\n",
    "    t_stat, p_value = ttest_ind(branch_a, branch_b)\n",
    "    return t_stat, p_value\n",
    "\n",
    "# Example usage:\n",
    "branch_a_scores = [4, 5, 3, 4, 5, 4, 5, 3, 4, 4, 5, 4, 4, 3, 4, 5, 5, 4, 3, 4, 5, 4, 3, 5, 4, 4, 5, 3, 4, 5, 4]\n",
    "branch_b_scores = [3, 4, 2, 3, 4, 3, 4, 2, 3, 3, 4, 3, 3, 2, 3, 4, 4, 3, 2, 3, 4, 3, 2, 4, 3, 3, 4, 2, 3, 4, 3]\n",
    "\n",
    "t_statistic, p_value = compare_satisfaction(branch_a_scores, branch_b_scores)\n",
    "print(\"T-statistic:\", t_statistic)\n",
    "print(\"P-value:\", p_value)\n",
    "\n",
    "alpha = 0.05  # significance level\n",
    "if p_value < alpha:\n",
    "    print(\"Reject the null hypothesis: Significant difference in customer satisfaction between branches.\")\n",
    "else:\n",
    "    print(\"Fail to reject the null hypothesis: No significant difference in customer satisfaction between branches.\")\n"
   ]
  },
  {
   "cell_type": "code",
   "execution_count": 8,
   "metadata": {},
   "outputs": [
    {
     "name": "stdout",
     "output_type": "stream",
     "text": [
      "Chi-Square Statistic: 0.8779923945254768\n",
      "P-value: 0.6446832311860852\n",
      "Degrees of Freedom: 2\n",
      "Expected Frequencies:\n",
      " [[96.824 85.176]\n",
      " [89.908 79.092]\n",
      " [79.268 69.732]]\n",
      "Fail to reject the null hypothesis: There is no significant association between age groups and voter preferences.\n"
     ]
    }
   ],
   "source": [
    "#21- A political analyst wants to determine if there is a significant association between age groups and voter\n",
    "#preferences (Candidate A or Candidate B). They collect data from a sample of 500 voters and classify\n",
    "#them into different age groups and candidate preferences. Perform a Chi-Square test to determine if\n",
    "#there is a significant association between age groups and voter preferences.\n",
    "#Use the below code to generate data:\n",
    "\n",
    "#np.random.seed(0)\n",
    "# #age_groups = np.random.choice([ 18 30 , 31 50 , 51+', 51+'], size=30)\n",
    "#voter_preferences = np.random.choice(['Candidate A', 'Candidate B'], size=30)\n",
    "\n",
    "\n",
    "import numpy as np\n",
    "import pandas as pd\n",
    "from scipy.stats import chi2_contingency\n",
    "\n",
    "# Generate data\n",
    "np.random.seed(0)\n",
    "age_groups = np.random.choice(['18-30', '31-50', '51+'], size=500)\n",
    "voter_preferences = np.random.choice(['Candidate A', 'Candidate B'], size=500)\n",
    "\n",
    "# Create a DataFrame\n",
    "data = pd.DataFrame({'Age Group': age_groups, 'Voter Preference': voter_preferences})\n",
    "\n",
    "# Create a contingency table\n",
    "contingency_table = pd.crosstab(data['Age Group'], data['Voter Preference'])\n",
    "\n",
    "# Perform Chi-Square test\n",
    "chi2, p, dof, expected = chi2_contingency(contingency_table)\n",
    "\n",
    "print(\"Chi-Square Statistic:\", chi2)\n",
    "print(\"P-value:\", p)\n",
    "print(\"Degrees of Freedom:\", dof)\n",
    "print(\"Expected Frequencies:\\n\", expected)\n",
    "\n",
    "# Interpretation\n",
    "alpha = 0.05  # significance level\n",
    "\n",
    "if p < alpha:\n",
    "    print(\"Reject the null hypothesis: There is a significant association between age groups and voter preferences.\")\n",
    "else:\n",
    "    print(\"Fail to reject the null hypothesis: There is no significant association between age groups and voter preferences.\")\n"
   ]
  },
  {
   "cell_type": "code",
   "execution_count": 9,
   "metadata": {},
   "outputs": [
    {
     "name": "stdout",
     "output_type": "stream",
     "text": [
      "Chi-Square Statistic: 27.777056277056275\n",
      "P-value: 0.00010349448486004387\n",
      "Degrees of Freedom: 6\n",
      "Expected Frequencies:\n",
      " [[34.14634146 34.14634146 37.56097561 34.14634146]\n",
      " [36.58536585 36.58536585 40.24390244 36.58536585]\n",
      " [29.26829268 29.26829268 32.19512195 29.26829268]]\n",
      "Reject the null hypothesis: There is a significant relationship between product satisfaction levels and customer regions.\n"
     ]
    }
   ],
   "source": [
    "#22-  A company conducted a customer satisfaction survey to determine if there is a significant relationship\n",
    "#between product satisfaction levels (Satisfied, Neutral, Dissatisfied) and the region where customers are\n",
    "#located (East, West, North, South). The survey data is summarized in a contingency table. Conduct a ChiSquare test to determine if there is a significant relationship between product satisfaction levels and\n",
    "#customer regions.\n",
    "#Sample data:\n",
    "#Sample data: Product satisfaction levels (rows) vs. Customer regions (columns)\n",
    "#data = np.array([[50, 30, 40, 20], [30, 40, 30, 50], [20, 30, 40, 30]])\n",
    "\n",
    "\n",
    "import numpy as np\n",
    "from scipy.stats import chi2_contingency\n",
    "\n",
    "# Sample data: Product satisfaction levels (rows) vs. Customer regions (columns)\n",
    "data = np.array([[50, 30, 40, 20], [30, 40, 30, 50], [20, 30, 40, 30]])\n",
    "\n",
    "# Perform Chi-Square test\n",
    "chi2, p, dof, expected = chi2_contingency(data)\n",
    "\n",
    "print(\"Chi-Square Statistic:\", chi2)\n",
    "print(\"P-value:\", p)\n",
    "print(\"Degrees of Freedom:\", dof)\n",
    "print(\"Expected Frequencies:\\n\", expected)\n",
    "\n",
    "# Interpretation\n",
    "alpha = 0.05  # significance level\n",
    "\n",
    "if p < alpha:\n",
    "    print(\"Reject the null hypothesis: There is a significant relationship between product satisfaction levels and customer regions.\")\n",
    "else:\n",
    "    print(\"Fail to reject the null hypothesis: There is no significant relationship between product satisfaction levels and customer regions.\")\n"
   ]
  },
  {
   "cell_type": "code",
   "execution_count": 11,
   "metadata": {},
   "outputs": [
    {
     "name": "stdout",
     "output_type": "stream",
     "text": [
      "Chi-Square Statistic: 22.161728395061726\n",
      "P-value: 0.00018609719479882554\n",
      "Degrees of Freedom: 4\n",
      "Expected Frequencies:\n",
      " [[34.48275862 34.48275862 31.03448276]\n",
      " [34.48275862 34.48275862 31.03448276]\n",
      " [31.03448276 31.03448276 27.93103448]]\n",
      "Reject the null hypothesis: There is a significant difference in job performance levels before and after the training.\n"
     ]
    }
   ],
   "source": [
    "#23- A company implemented an employee training program to improve job performance (Effective, Neutral,\n",
    "#Ineffective). After the training, they collected data from a sample of employees and classified them based\n",
    "#on their job performance before and after the training. Perform a Chi-Square test to determine if there is a\n",
    "#significant difference between job performance levels before and after the training.\n",
    "#Sample data:\n",
    "# Sample data: Job performance levels before (rows) and after (columns) training\n",
    "#data = np.array([[50, 30, 20], [30, 40, 30], [20, 30, 40]])\n",
    "\n",
    "import numpy as np\n",
    "from scipy.stats import chi2_contingency\n",
    "\n",
    "# Sample data: Job performance levels before (rows) and after (columns) training\n",
    "data = np.array([[50, 30, 20], [30, 40, 30], [20, 30, 40]])\n",
    "\n",
    "# Perform Chi-Square test\n",
    "chi2, p, dof, expected = chi2_contingency(data)\n",
    "\n",
    "print(\"Chi-Square Statistic:\", chi2)\n",
    "print(\"P-value:\", p)\n",
    "print(\"Degrees of Freedom:\", dof)\n",
    "print(\"Expected Frequencies:\\n\", expected)\n",
    "\n",
    "# Interpretation\n",
    "alpha = 2  # significance level\n",
    "\n",
    "if p < alpha:\n",
    "    print(\"Reject the null hypothesis: There is a significant difference in job performance levels before and after the training.\")\n",
    "else:\n",
    "    print(\"Fail to reject the null hypothesis: There is no significant difference in job performance levels before and after the training.\")\n"
   ]
  },
  {
   "cell_type": "code",
   "execution_count": 12,
   "metadata": {},
   "outputs": [
    {
     "name": "stdout",
     "output_type": "stream",
     "text": [
      "F-statistic: 27.03556231003039\n",
      "P-value: 3.578632885734896e-07\n",
      "Reject the null hypothesis: There is a significant difference in customer satisfaction scores among the three product versions.\n"
     ]
    }
   ],
   "source": [
    "#24- A company produces three different versions of a product: Standard, Premium, and Deluxe. The\n",
    "#company wants to determine if there is a significant difference in customer satisfaction scores among the\n",
    "#three product versions. They conducted a survey and collected customer satisfaction scores for each\n",
    "#version from a random sample of customers. Perform an ANOVA test to determine if there is a significant\n",
    "#difference in customer satisfaction scores.\n",
    "#  Use the following data:\n",
    "# Sample data: Customer satisfaction scores for each product version\n",
    "# standard_scores = [80, 85, 90, 78, 88, 82, 92, 78, 85, 87]\n",
    "#premium_scores = [90, 92, 88, 92, 95, 91, 96, 93, 89, 93]\n",
    "#deluxe_scores = [95, 98, 92, 97, 96, 94, 98, 97, 92, 99]\n",
    "\n",
    "\n",
    "import numpy as np\n",
    "from scipy.stats import f_oneway\n",
    "\n",
    "# Sample data: Customer satisfaction scores for each product version\n",
    "standard_scores = [80, 85, 90, 78, 88, 82, 92, 78, 85, 87]\n",
    "premium_scores = [90, 92, 88, 92, 95, 91, 96, 93, 89, 93]\n",
    "deluxe_scores = [95, 98, 92, 97, 96, 94, 98, 97, 92, 99]\n",
    "\n",
    "# Perform ANOVA\n",
    "f_statistic, p_value = f_oneway(standard_scores, premium_scores, deluxe_scores)\n",
    "\n",
    "print(\"F-statistic:\", f_statistic)\n",
    "print(\"P-value:\", p_value)\n",
    "\n",
    "# Interpretation\n",
    "alpha = 0.05  # significance level\n",
    "\n",
    "if p_value < alpha:\n",
    "    print(\"Reject the null hypothesis: There is a significant difference in customer satisfaction scores among the three product versions.\")\n",
    "else:\n",
    "    print(\"Fail to reject the null hypothesis: There is no significant difference in customer satisfaction scores among the three product versions.\")\n"
   ]
  },
  {
   "cell_type": "code",
   "execution_count": null,
   "metadata": {},
   "outputs": [],
   "source": []
  }
 ],
 "metadata": {
  "kernelspec": {
   "display_name": "Python 3",
   "language": "python",
   "name": "python3"
  },
  "language_info": {
   "codemirror_mode": {
    "name": "ipython",
    "version": 3
   },
   "file_extension": ".py",
   "mimetype": "text/x-python",
   "name": "python",
   "nbconvert_exporter": "python",
   "pygments_lexer": "ipython3",
   "version": "3.12.4"
  }
 },
 "nbformat": 4,
 "nbformat_minor": 2
}
